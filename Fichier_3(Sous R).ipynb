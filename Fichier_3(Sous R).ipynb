{
 "cells": [
  {
   "cell_type": "code",
   "execution_count": null,
   "id": "5adb0daa",
   "metadata": {},
   "outputs": [],
   "source": [
    "automat <- function(){\n",
    "  library(kableExtra)\n",
    "  library(readxl)\n",
    "  base <- read_excel(file.choose())\n",
    "  for ( i in (1:dim(base)[1])){\n",
    "    a <-  kbl(base[i,]) %>%\n",
    "    kable_styling(bootstrap_options = c(\"bordered\", \"hover\") , full_width = F, position = \"center\" ) %>% \n",
    "    add_header_above(c( \" \",\"UE ECONOMIE\" = 1, \"UE QUANTITATIVE\" = 1, \"UE CONDUITE PROJET\" = 1 , \" \" , \" \" ))%>% \n",
    "    add_header_above(c( \"Bulletin\" = 6 ))\n",
    "    print(a)\n",
    "  }\n",
    "  return( rmarkdown::render(\"Bulletin(1).R\"))\n",
    "}"
   ]
  }
 ],
 "metadata": {
  "kernelspec": {
   "display_name": "Python 3",
   "language": "python",
   "name": "python3"
  },
  "language_info": {
   "codemirror_mode": {
    "name": "ipython",
    "version": 3
   },
   "file_extension": ".py",
   "mimetype": "text/x-python",
   "name": "python",
   "nbconvert_exporter": "python",
   "pygments_lexer": "ipython3",
   "version": "3.8.8"
  }
 },
 "nbformat": 4,
 "nbformat_minor": 5
}
